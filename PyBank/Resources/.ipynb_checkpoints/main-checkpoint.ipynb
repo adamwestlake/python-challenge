{
 "cells": [
  {
   "cell_type": "code",
   "execution_count": 53,
   "id": "504b0a30-14d2-45bb-8153-c187acce4a83",
   "metadata": {},
   "outputs": [],
   "source": [
    "import csv #importing library with functions that make csv file readable\n",
    "import numpy\n",
    "import numpy_financial as npf\n",
    "import pandas as pd"
   ]
  },
  {
   "cell_type": "code",
   "execution_count": 49,
   "id": "8a11a4f3-923a-4fa4-9de5-f13c16263d84",
   "metadata": {},
   "outputs": [
    {
     "name": "stdout",
     "output_type": "stream",
     "text": [
      "Total Months: 86\n",
      "Total: $38382578\n",
      "Average Change: $446309.05\n"
     ]
    }
   ],
   "source": [
    "with open('budget_data.csv', 'r') as file:\n",
    "    reader = csv.reader(file)\n",
    "    total_records = 0\n",
    "    total_cashflow = 0\n",
    "    firstline = file.readline()\n",
    "    for row in reader:\n",
    "        total_records = total_records + 1\n",
    "        total_cashflow = total_cashflow + int(row[1])\n",
    "        current_value = int(row[1])\n",
    "    average_change = total_cashflow / total_records\n",
    "    print(f\"Total Months: {total_records}\")\n",
    "    print(f\"Total: ${total_cashflow}\")\n",
    "    print(f\"Average Change: ${round(average_change,  2)}\")"
   ]
  },
  {
   "cell_type": "code",
   "execution_count": null,
   "id": "c0a0887f-bec3-4879-9278-e2173f2d9cff",
   "metadata": {},
   "outputs": [],
   "source": []
  }
 ],
 "metadata": {
  "kernelspec": {
   "display_name": "Python 3 (ipykernel)",
   "language": "python",
   "name": "python3"
  },
  "language_info": {
   "codemirror_mode": {
    "name": "ipython",
    "version": 3
   },
   "file_extension": ".py",
   "mimetype": "text/x-python",
   "name": "python",
   "nbconvert_exporter": "python",
   "pygments_lexer": "ipython3",
   "version": "3.9.7"
  }
 },
 "nbformat": 4,
 "nbformat_minor": 5
}
