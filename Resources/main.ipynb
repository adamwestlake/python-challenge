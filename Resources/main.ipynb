{
 "cells": [
  {
   "cell_type": "code",
   "execution_count": 33,
   "id": "feacf1b0-c0ce-429f-a302-a1964eea068e",
   "metadata": {},
   "outputs": [],
   "source": [
    "import csv #importing library with functions that make csv file readable\n",
    "from pathlib import Path #executing path directory\n",
    "import numpy #importing numerical function library\n",
    "import numpy_financial as npf # providing alias for numpy program"
   ]
  },
  {
   "cell_type": "code",
   "execution_count": 34,
   "id": "a5a778d1-782d-4de9-93da-1772bb46a73e",
   "metadata": {},
   "outputs": [
    {
     "name": "stdout",
     "output_type": "stream",
     "text": [
      "Financial Analysis\n",
      "----------------------------\n",
      "Total Months: 86\n",
      "Total: $38382578\n",
      "Average Change: $-2315.12\n",
      "Greatest Increase in Profits: Feb-2012 ($1926159)\n",
      "Greatest Decrease in Profits: Sep-2013 ($-2196167)\n"
     ]
    }
   ],
   "source": [
    "with open('budget_data.csv', 'r') as file: #opening the budget data file\n",
    "    file_path = Path('Resources/budget_data.csv') #accessing the csv file through diectory with path\n",
    "    csvreader = csv.reader(file) #using reader to provide csvreader as a variable\n",
    "    #declaring variables below\n",
    "    total_records = 1\n",
    "    total_cashflow = 0\n",
    "    all_change = 0\n",
    "    first_loop = 0\n",
    "    greatest_increase = [\"\", 0]\n",
    "    greatest_decrease = [\"\", 10000000]\n",
    "    \n",
    "    file.readline() #reading the header before the loop \n",
    "    first_row = next(csvreader) #reading first line of data\n",
    "    prev_net = first_row[1] #addressing the first row of data as prev_net to allow loop to function\n",
    "    total_cashflow = total_cashflow + int(first_row[1]) #calculating total cashflow\n",
    "    net_change = 0 #variable for net_change to declare for loop to function\n",
    "    \n",
    "    for row in records:\n",
    "        \n",
    "        total_records = total_records + 1 #calculating total record number\n",
    "        total_cashflow = total_cashflow + int(row[1]) #calculating total cashflow\n",
    "        \n",
    "        if first_loop == 1: #triggering the loop once it has passed through to equal 1 below\n",
    "            current_net = int(row[1]) #setting current value to be value stored current row\n",
    "            net_change = int(current_net) - int(prev_net) #mathematical equation to calculate diff between change\n",
    "            all_change = net_change + all_change #adding each net_change in the loop together\n",
    "            prev_net = current_net #overwiting prev_net to accurately calculate as loop repeats\n",
    "        first_loop = 1 #setting variable to ensure if statement runs next iteration\n",
    "        \n",
    "        if net_change > greatest_increase[1]: #using equation to hold the greatest increase number from the net change\n",
    "            greatest_increase[0] = row[0] #calculation to pull date\n",
    "            greatest_increase[1] = net_change #calculation to pull greatest increase from net change\n",
    "            \n",
    "        if net_change < greatest_decrease[1]: #using equation to hold the greatest decrease number from the net change\n",
    "            greatest_decrease[0] = row[0] #calculation to pull date\n",
    "            greatest_decrease[1] = net_change #calculation to pull greatest decrease from net change\n",
    "        \n",
    "        \n",
    "    #printing results in Jupyter Lab\n",
    "    print(f\"Financial Analysis\")\n",
    "    print(f\"----------------------------\")\n",
    "    print(f\"Total Months: {total_records}\")\n",
    "    print(f\"Total: ${total_cashflow}\")\n",
    "    print(f\"Average Change: ${round(all_change / 85,2)}\")\n",
    "    print(f\"Greatest Increase in Profits: {greatest_increase[0]} (${greatest_increase[1]})\")\n",
    "    print(f\"Greatest Decrease in Profits: {greatest_decrease[0]} (${greatest_decrease[1]})\")\n",
    "    \n",
    "    #Exporting same results to an external txt file\n",
    "    with open(\"Adam_Module_2.txt\", \"w\") as txt_file:\n",
    "        txt_file.write(f\"Financial Analysis\\n\")\n",
    "        txt_file.write(f\"----------------------------\\n\")\n",
    "        txt_file.write(f\"Total Months: {total_records}\\n\")\n",
    "        txt_file.write(f\"Total: ${total_cashflow}\\n\")\n",
    "        txt_file.write(f\"Average Change: ${round(all_change / 85,2)}\\n\")\n",
    "        txt_file.write(f\"Greatest Increase in Profits: {greatest_increase[0]} (${greatest_increase[1]})\\n\")\n",
    "        txt_file.write(f\"Greatest Decrease in Profits: {greatest_decrease[0]} (${greatest_decrease[1]})\\n\")"
   ]
  },
  {
   "cell_type": "code",
   "execution_count": null,
   "id": "3ecea75c-5628-449b-8f01-7d5611eee40f",
   "metadata": {},
   "outputs": [],
   "source": []
  }
 ],
 "metadata": {
  "kernelspec": {
   "display_name": "Python 3 (ipykernel)",
   "language": "python",
   "name": "python3"
  },
  "language_info": {
   "codemirror_mode": {
    "name": "ipython",
    "version": 3
   },
   "file_extension": ".py",
   "mimetype": "text/x-python",
   "name": "python",
   "nbconvert_exporter": "python",
   "pygments_lexer": "ipython3",
   "version": "3.9.7"
  }
 },
 "nbformat": 4,
 "nbformat_minor": 5
}
